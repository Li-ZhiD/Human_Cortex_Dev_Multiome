{
 "cells": [
  {
   "cell_type": "markdown",
   "id": "af67e96f",
   "metadata": {},
   "source": [
    "# Nhood enrichment "
   ]
  },
  {
   "cell_type": "raw",
   "id": "004d7aa6",
   "metadata": {},
   "source": []
  },
  {
   "cell_type": "code",
   "execution_count": null,
   "id": "bca18e06",
   "metadata": {},
   "outputs": [],
   "source": [
    "import ncem as nc\n",
    "import numpy as np\n",
    "import matplotlib.pyplot as plt\n",
    "import scanpy as sc\n",
    "import squidpy as sq\n",
    "import pandas as pd \n",
    "\n",
    "sc.settings.set_figure_params(dpi=80)\n",
    "import warnings\n",
    "warnings.filterwarnings(\"ignore\")\n",
    "\n",
    "sc.logging.print_header()\n",
    "\n",
    "print(f\"ncem=={nc.__version__}\")\n",
    "\n",
    "from ncem.interpretation import InterpreterInteraction\n",
    "from ncem.data import get_data_custom, customLoader"
   ]
  },
  {
   "cell_type": "code",
   "execution_count": null,
   "id": "8f4fd1da",
   "metadata": {},
   "outputs": [],
   "source": [
    "my_colors = {'RG-tRG': '#F6222E', 'RG-oRG': '#FE00FA', 'IPC-EN': '#16FF32', 'EN-Newborn': '#3283FE', 'EN-IT-Immature': '#FEAF16', 'EN-L2_3-IT': '#B00068', 'EN-L4-IT': '#1CFFCE', 'EN-L5-IT': '#90AD1C', 'EN-L6-IT': '#2ED9FF', 'EN-L5-ET': '#AA0DFE', 'EN-L5_6-NP': '#F8A19F', 'EN-L6-CT': '#325A9B', 'EN-L6b': '#C4451C', 'IN-dLGE-Immature': '#1C8356', 'IN-CGE-Immature': '#85660D', 'IN-CGE-VIP': '#B10DA1', 'IN-CGE-SNCG': '#FBE426', 'IN-CGE-LAMP5': '#1CBE4F', 'IN-MGE-Immature': '#FA0087', 'IN-MGE-SST': '#FC1CBF', 'IN-MGE-PV': '#F7E1A0', 'IPC-Glia': '#C075A6', 'Astrocyte-Protoplasmic': '#AAF400', 'Astrocyte-Fibrous': '#BDCDFF', 'OPC': '#B5EFB5', 'Oligodendrocyte-Immature': '#7ED7D1', 'Oligodendrocyte': '#1C7F93', 'Microglia': '#683B79', 'Vascular': '#3B00FB'}"
   ]
  },
  {
   "cell_type": "raw",
   "id": "9123c98f",
   "metadata": {},
   "source": [
    "{k: v for k, v in my_colors.items() if k in ad.obs.type.value_counts().index}"
   ]
  },
  {
   "cell_type": "markdown",
   "id": "a7416fed",
   "metadata": {},
   "source": [
    "## ARKFrozen65V1 - whole dataset"
   ]
  },
  {
   "cell_type": "code",
   "execution_count": null,
   "id": "5c6d89f2",
   "metadata": {},
   "outputs": [],
   "source": [
    "ad = sq.read.vizgen(path='./',\n",
    "    counts_file=\"./ARKFrozen65V1/cell_by_gene.csv\",\n",
    "    meta_file=\"./ARKFrozen65V1/cell_metadata.csv\")\n",
    "\n",
    "annot = pd.read_csv('./ARKFrozen65V1/ARKFrozen65V1_annotation.csv',\n",
    "                   sep=',', index_col=0)\n",
    "\n",
    "annot = annot[['type']]\n",
    "\n",
    "ad = ad[annot.index.astype(str),]\n",
    "\n",
    "annot.index = annot.index.astype(str)\n",
    "\n",
    "ad.obs = ad.obs.join(annot)\n",
    "\n",
    "ad.layers[\"counts\"] = ad.X.copy()\n",
    "sc.pp.normalize_total(ad, inplace=True)\n",
    "sc.pp.log1p(ad)\n",
    "sc.pp.pca(ad)\n",
    "sc.pp.neighbors(ad)\n",
    "\n",
    "ad.obs['Cluster'] = ad.obs['type']"
   ]
  },
  {
   "cell_type": "code",
   "execution_count": null,
   "id": "46f19db7",
   "metadata": {
    "scrolled": false
   },
   "outputs": [],
   "source": [
    "sc.pl.embedding(ad, basis=\"spatial\", color='type', palette={k: v for k, v in my_colors.items() if k in ad.obs.type.value_counts().index})"
   ]
  },
  {
   "cell_type": "code",
   "execution_count": null,
   "id": "686ebede",
   "metadata": {
    "scrolled": true
   },
   "outputs": [],
   "source": [
    "sq.gr.spatial_neighbors(ad, coord_type=\"generic\", spatial_key=\"spatial\")\n",
    "sq.gr.nhood_enrichment(ad, cluster_key=\"type\")"
   ]
  },
  {
   "cell_type": "code",
   "execution_count": null,
   "id": "f74e8556",
   "metadata": {
    "scrolled": false
   },
   "outputs": [],
   "source": [
    "sq.pl.nhood_enrichment(\n",
    "    ad,\n",
    "    cluster_key=\"type\",\n",
    "    method=None,\n",
    "    cmap=\"inferno\",\n",
    "    vmin=-50,\n",
    "    vmax=100,figsize=(8, 8))"
   ]
  },
  {
   "cell_type": "code",
   "execution_count": null,
   "id": "b9cb6223",
   "metadata": {},
   "outputs": [],
   "source": [
    "old_order = sorted(list(my_colors.keys()))\n",
    "\n",
    "zscore_data = ad.uns['type_nhood_enrichment']['zscore']\n",
    "zscore_ordered = pd.DataFrame(zscore_data, columns=old_order, index=old_order)\n",
    "\n",
    "zscore_reordered = zscore_ordered.reindex(index=list(my_colors.keys()), columns=list(my_colors.keys()))"
   ]
  },
  {
   "cell_type": "code",
   "execution_count": null,
   "id": "5bd84a8b",
   "metadata": {},
   "outputs": [],
   "source": [
    "fig, ax = plt.subplots(figsize=(12, 12))\n",
    "heatmap = ax.imshow(\n",
    "    zscore_reordered.values,\n",
    "    cmap='inferno',\n",
    "    vmin=-50,\n",
    "    vmax=100\n",
    ")\n",
    "\n",
    "ax.set_title('Neighborhood enrichment')\n",
    "ax.set_xlabel('')\n",
    "ax.set_ylabel('')\n",
    "ax.grid(False)\n",
    "\n",
    "n_clusters = len(list(my_colors.keys()))\n",
    "ax.set_xticks(np.linspace(0, n_clusters - 1, n_clusters))\n",
    "ax.set_yticks(np.linspace(0, n_clusters - 1, n_clusters))\n",
    "ax.set_xticklabels(list(my_colors.keys()), rotation=90)\n",
    "ax.set_yticklabels(list(my_colors.keys()))\n",
    "\n",
    "cbar = plt.colorbar(heatmap, shrink=0.7, aspect=30)\n",
    "cbar.set_label('')\n",
    "\n",
    "plt.tight_layout()\n",
    "\n",
    "plt.savefig('/c4/home/juanmoriano/P2_spatial_transcriptomics/231015_data/ARKFrozen65V1/ARKFrozen65V1_wholedataset_nhood_enrich.svg', format='svg')\n",
    "plt.savefig('/c4/home/juanmoriano/P2_spatial_transcriptomics/231015_data/ARKFrozen65V1/ARKFrozen65V1_wholedataset_nhood_enrich.pdf', format='pdf')\n",
    "\n",
    "plt.show()"
   ]
  },
  {
   "cell_type": "raw",
   "id": "dd411465",
   "metadata": {},
   "source": []
  },
  {
   "cell_type": "markdown",
   "id": "2c025f77",
   "metadata": {},
   "source": [
    "## ARKFrozen65V1 - subset as with NCEM"
   ]
  },
  {
   "cell_type": "code",
   "execution_count": null,
   "id": "b9703328",
   "metadata": {},
   "outputs": [],
   "source": [
    "ad = sq.read.vizgen(path='./',\n",
    "    counts_file=\"./ARKFrozen65V1/subset_cell_by_gene.csv\",\n",
    "    meta_file=\"./ARKFrozen65V1/subset_cell_metadata.csv\")\n",
    "\n",
    "annot = pd.read_csv('./ARKFrozen65V1/ARKFrozen65V1_annotation.csv',\n",
    "                   sep=',', index_col=0)\n",
    "\n",
    "annot = annot[['type']]\n",
    "\n",
    "ad = ad[annot.index.astype(str),]\n",
    "\n",
    "annot.index = annot.index.astype(str)\n",
    "\n",
    "ad.obs = ad.obs.join(annot)\n",
    "\n",
    "#Downsample\n",
    "print('downsampling to 60k')\n",
    "ad = ad[ad.obs.sample(n=60000, random_state=1).index]\n",
    "\n",
    "ad.layers[\"counts\"] = ad.X.copy()\n",
    "sc.pp.normalize_total(ad, inplace=True)\n",
    "sc.pp.log1p(ad)\n",
    "sc.pp.pca(ad)\n",
    "sc.pp.neighbors(ad)\n",
    "\n",
    "ad.obs['Cluster'] = ad.obs['type']\n",
    "\n",
    "sc.pl.embedding(ad, basis=\"spatial\", color='type', palette={k: v for k, v in my_colors.items() if k in ad.obs.type.value_counts().index})"
   ]
  },
  {
   "cell_type": "code",
   "execution_count": null,
   "id": "a3ee0463",
   "metadata": {
    "scrolled": true
   },
   "outputs": [],
   "source": [
    "sq.gr.spatial_neighbors(ad, coord_type=\"generic\", spatial_key=\"spatial\", radius=50)\n",
    "sq.gr.nhood_enrichment(ad, cluster_key=\"type\")"
   ]
  },
  {
   "cell_type": "code",
   "execution_count": null,
   "id": "9a759895",
   "metadata": {
    "scrolled": false
   },
   "outputs": [],
   "source": [
    "sq.pl.nhood_enrichment(\n",
    "    ad,\n",
    "    cluster_key=\"type\",\n",
    "    method=None,\n",
    "    cmap=\"inferno\",\n",
    "    vmin=-50,\n",
    "    vmax=100,\n",
    "    figsize=(8, 8))"
   ]
  },
  {
   "cell_type": "code",
   "execution_count": null,
   "id": "7ba85fe9",
   "metadata": {},
   "outputs": [],
   "source": [
    "old_order = sorted(list(my_colors.keys()))\n",
    "\n",
    "zscore_data = ad.uns['type_nhood_enrichment']['zscore']\n",
    "zscore_ordered = pd.DataFrame(zscore_data, columns=old_order, index=old_order)\n",
    "\n",
    "zscore_reordered = zscore_ordered.reindex(index=list(my_colors.keys()), columns=list(my_colors.keys()))"
   ]
  },
  {
   "cell_type": "code",
   "execution_count": null,
   "id": "cb214d08",
   "metadata": {
    "scrolled": false
   },
   "outputs": [],
   "source": [
    "fig, ax = plt.subplots(figsize=(12, 12))\n",
    "heatmap = ax.imshow(\n",
    "    zscore_reordered.values,\n",
    "    cmap='inferno',\n",
    "    vmin=-50,\n",
    "    vmax=100\n",
    ")\n",
    "\n",
    "ax.set_title('Neighborhood enrichment')\n",
    "ax.set_xlabel('')\n",
    "ax.set_ylabel('')\n",
    "ax.grid(False)\n",
    "\n",
    "n_clusters = len(list(my_colors.keys()))\n",
    "ax.set_xticks(np.linspace(0, n_clusters - 1, n_clusters))\n",
    "ax.set_yticks(np.linspace(0, n_clusters - 1, n_clusters))\n",
    "ax.set_xticklabels(list(my_colors.keys()), rotation=90)\n",
    "ax.set_yticklabels(list(my_colors.keys()))\n",
    "\n",
    "cbar = plt.colorbar(heatmap, shrink=0.7, aspect=30)\n",
    "cbar.set_label('')\n",
    "\n",
    "plt.tight_layout()\n",
    "\n",
    "plt.savefig('/c4/home/juanmoriano/P2_spatial_transcriptomics/231015_data/ARKFrozen65V1/ARKFrozen65V1_60kcells_nhood_enrich.svg', format='svg')\n",
    "plt.savefig('/c4/home/juanmoriano/P2_spatial_transcriptomics/231015_data/ARKFrozen65V1/ARKFrozen65V1_60kcells_nhood_enrich.pdf', format='pdf')\n",
    "\n",
    "plt.show()"
   ]
  },
  {
   "cell_type": "markdown",
   "id": "560f79ff",
   "metadata": {},
   "source": [
    "## ARKFrozen62PFC"
   ]
  },
  {
   "cell_type": "code",
   "execution_count": null,
   "id": "57fdb214",
   "metadata": {},
   "outputs": [],
   "source": [
    "ad = sq.read.vizgen(path='./',\n",
    "    counts_file=\"./ARKFrozen62PFC/cell_by_gene.csv\",\n",
    "    meta_file=\"./ARKFrozen62PFC/cell_metadata.csv\")\n",
    "\n",
    "annot = pd.read_csv('./ARKFrozen62PFC/ARKFrozen62PFC_annotation.csv',\n",
    "                   sep=',', index_col=0)\n",
    "\n",
    "annot = annot[['type']]\n",
    "\n",
    "ad = ad[annot.index,]\n",
    "\n",
    "ad.obs = ad.obs.join(annot)\n",
    "\n",
    "ad.layers[\"counts\"] = ad.X.copy()\n",
    "sc.pp.normalize_total(ad, inplace=True)\n",
    "sc.pp.log1p(ad)\n",
    "sc.pp.pca(ad)\n",
    "sc.pp.neighbors(ad)\n",
    "\n",
    "ad.obs['Cluster'] = ad.obs['type']"
   ]
  },
  {
   "cell_type": "code",
   "execution_count": null,
   "id": "8e764409",
   "metadata": {},
   "outputs": [],
   "source": [
    "sc.pl.embedding(ad, basis=\"spatial\", color='type', palette={k: v for k, v in my_colors.items() if k in ad.obs.type.value_counts().index})"
   ]
  },
  {
   "cell_type": "code",
   "execution_count": null,
   "id": "330d8a2b",
   "metadata": {},
   "outputs": [],
   "source": [
    "sq.gr.spatial_neighbors(ad, coord_type=\"generic\", spatial_key=\"spatial\", radius=40)\n",
    "sq.gr.nhood_enrichment(ad, cluster_key=\"type\")"
   ]
  },
  {
   "cell_type": "code",
   "execution_count": null,
   "id": "b87b6de4",
   "metadata": {
    "scrolled": false
   },
   "outputs": [],
   "source": [
    "sq.pl.nhood_enrichment(\n",
    "    ad,\n",
    "    cluster_key=\"type\",\n",
    "    method=None,\n",
    "    cmap=\"inferno\",\n",
    "    vmin=-50,\n",
    "    vmax=100,\n",
    "    figsize=(8, 8))"
   ]
  },
  {
   "cell_type": "code",
   "execution_count": null,
   "id": "8b39a647",
   "metadata": {
    "scrolled": true
   },
   "outputs": [],
   "source": [
    "old_order = sorted(list(my_colors.keys()))\n",
    "\n",
    "zscore_data = ad.uns['type_nhood_enrichment']['zscore']\n",
    "zscore_ordered = pd.DataFrame(zscore_data, columns=old_order, index=old_order)\n",
    "\n",
    "zscore_reordered = zscore_ordered.reindex(index=list(my_colors.keys()), columns=list(my_colors.keys()))"
   ]
  },
  {
   "cell_type": "code",
   "execution_count": null,
   "id": "b88722cb",
   "metadata": {
    "scrolled": false
   },
   "outputs": [],
   "source": [
    "fig, ax = plt.subplots(figsize=(12, 12))\n",
    "heatmap = ax.imshow(\n",
    "    zscore_reordered.values,\n",
    "    cmap='inferno',\n",
    "    vmin=-50,\n",
    "    vmax=100\n",
    ")\n",
    "\n",
    "ax.set_title('Neighborhood enrichment')\n",
    "ax.set_xlabel('')\n",
    "ax.set_ylabel('')\n",
    "ax.grid(False)\n",
    "\n",
    "n_clusters = len(list(my_colors.keys()))\n",
    "ax.set_xticks(np.linspace(0, n_clusters - 1, n_clusters))\n",
    "ax.set_yticks(np.linspace(0, n_clusters - 1, n_clusters))\n",
    "ax.set_xticklabels(list(my_colors.keys()), rotation=90)\n",
    "ax.set_yticklabels(list(my_colors.keys()))\n",
    "\n",
    "cbar = plt.colorbar(heatmap, shrink=0.7, aspect=30)\n",
    "cbar.set_label('')\n",
    "\n",
    "plt.tight_layout()\n",
    "\n",
    "plt.savefig('/c4/home/juanmoriano/P2_spatial_transcriptomics/231015_data/ARKFrozen62PFC/ARKFrozen62PFC_nhood_enrich.svg', format='svg')\n",
    "plt.savefig('/c4/home/juanmoriano/P2_spatial_transcriptomics/231015_data/ARKFrozen62PFC/ARKFrozen62PFC_nhood_enrich.pdf', format='pdf')\n",
    "\n",
    "plt.show()"
   ]
  },
  {
   "cell_type": "raw",
   "id": "566360d5",
   "metadata": {},
   "source": []
  },
  {
   "cell_type": "markdown",
   "id": "cb4b1bf7",
   "metadata": {},
   "source": [
    "## NIH4365BA10"
   ]
  },
  {
   "cell_type": "code",
   "execution_count": null,
   "id": "0e220259",
   "metadata": {},
   "outputs": [],
   "source": [
    "ad = sq.read.vizgen(path='./',\n",
    "    counts_file=\"./NIH4365BA10/cell_by_gene.csv\",\n",
    "    meta_file=\"./NIH4365BA10/cell_metadata.csv\")\n",
    "\n",
    "annot = pd.read_csv('./NIH4365BA10/NIH4365BA10_annotation.csv',\n",
    "                   sep=',', index_col=0)\n",
    "\n",
    "annot = annot[['type']]\n",
    "\n",
    "ad = ad[annot.index,]\n",
    "\n",
    "ad.obs = ad.obs.join(annot)\n",
    "\n",
    "ad.layers[\"counts\"] = ad.X.copy()\n",
    "sc.pp.normalize_total(ad, inplace=True)\n",
    "sc.pp.log1p(ad)\n",
    "sc.pp.pca(ad)\n",
    "sc.pp.neighbors(ad)\n",
    "\n",
    "ad.obs['Cluster'] = ad.obs['type']"
   ]
  },
  {
   "cell_type": "code",
   "execution_count": null,
   "id": "731eb2f0",
   "metadata": {
    "scrolled": true
   },
   "outputs": [],
   "source": [
    "ad"
   ]
  },
  {
   "cell_type": "code",
   "execution_count": null,
   "id": "d0225935",
   "metadata": {
    "scrolled": true
   },
   "outputs": [],
   "source": [
    "sc.pl.embedding(ad, basis=\"spatial\", color='type', palette={k: v for k, v in my_colors.items() if k in ad.obs.type.value_counts().index})"
   ]
  },
  {
   "cell_type": "code",
   "execution_count": null,
   "id": "eb2b453d",
   "metadata": {
    "scrolled": true
   },
   "outputs": [],
   "source": [
    "sq.gr.spatial_neighbors(ad, coord_type=\"generic\", spatial_key=\"spatial\", radius=55)\n",
    "sq.gr.nhood_enrichment(ad, cluster_key=\"type\")"
   ]
  },
  {
   "cell_type": "code",
   "execution_count": null,
   "id": "19b71f14",
   "metadata": {
    "scrolled": false
   },
   "outputs": [],
   "source": [
    "sq.pl.nhood_enrichment(\n",
    "    ad,\n",
    "    cluster_key=\"type\",\n",
    "    method=None,\n",
    "    cmap=\"inferno\",\n",
    "    vmin=-50,\n",
    "    vmax=100,\n",
    "    figsize=(8, 8))"
   ]
  },
  {
   "cell_type": "code",
   "execution_count": null,
   "id": "31d7e33a",
   "metadata": {},
   "outputs": [],
   "source": []
  },
  {
   "cell_type": "code",
   "execution_count": null,
   "id": "200a7034",
   "metadata": {
    "scrolled": true
   },
   "outputs": [],
   "source": [
    "old_order = sorted(list(my_colors.keys()))\n",
    "\n",
    "zscore_data = ad.uns['type_nhood_enrichment']['zscore']\n",
    "zscore_ordered = pd.DataFrame(zscore_data, columns=old_order, index=old_order)\n",
    "\n",
    "zscore_reordered = zscore_ordered.reindex(index=list(my_colors.keys()), columns=list(my_colors.keys()))"
   ]
  },
  {
   "cell_type": "code",
   "execution_count": null,
   "id": "526a08be",
   "metadata": {},
   "outputs": [],
   "source": [
    "zscore_reordered['IPC-EN'].iloc[2] = 0 #to remove nan values"
   ]
  },
  {
   "cell_type": "code",
   "execution_count": null,
   "id": "ae5d7ac9",
   "metadata": {
    "scrolled": false
   },
   "outputs": [],
   "source": [
    "fig, ax = plt.subplots(figsize=(12, 12))\n",
    "heatmap = ax.imshow(\n",
    "    zscore_reordered.values,\n",
    "    cmap='inferno',\n",
    "    vmin=-50,\n",
    "    vmax=100\n",
    ")\n",
    "\n",
    "ax.set_title('Neighborhood enrichment')\n",
    "ax.set_xlabel('')\n",
    "ax.set_ylabel('')\n",
    "ax.grid(False)\n",
    "\n",
    "n_clusters = len(list(my_colors.keys()))\n",
    "ax.set_xticks(np.linspace(0, n_clusters - 1, n_clusters))\n",
    "ax.set_yticks(np.linspace(0, n_clusters - 1, n_clusters))\n",
    "ax.set_xticklabels(list(my_colors.keys()), rotation=90)\n",
    "ax.set_yticklabels(list(my_colors.keys()))\n",
    "\n",
    "cbar = plt.colorbar(heatmap, shrink=0.7, aspect=30)\n",
    "cbar.set_label('')\n",
    "\n",
    "plt.tight_layout()\n",
    "\n",
    "plt.savefig('/c4/home/juanmoriano/P2_spatial_transcriptomics/231015_data/NIH4365BA10/NIH4365BA10_nhood_enrich.svg', format='svg')\n",
    "plt.savefig('/c4/home/juanmoriano/P2_spatial_transcriptomics/231015_data/NIH4365BA10/NIH4365BA10_nhood_enrich.pdf', format='pdf')\n",
    "\n",
    "plt.show()"
   ]
  },
  {
   "cell_type": "raw",
   "id": "f5656788",
   "metadata": {},
   "source": []
  },
  {
   "cell_type": "markdown",
   "id": "576fc4c6",
   "metadata": {},
   "source": [
    "## NIH5900BA17"
   ]
  },
  {
   "cell_type": "code",
   "execution_count": null,
   "id": "0dc33ebf",
   "metadata": {},
   "outputs": [],
   "source": [
    "ad = sq.read.vizgen(path='./',\n",
    "    counts_file=\"./NIH5900BA17/cell_by_gene.csv\",\n",
    "    meta_file=\"./NIH5900BA17/cell_metadata.csv\")\n",
    "\n",
    "annot = pd.read_csv('./NIH5900BA17/NIH5900BA17_annotation.csv',\n",
    "                   sep=',', index_col=0)\n",
    "\n",
    "annot = annot[['type']]\n",
    "\n",
    "ad = ad[annot.index.astype(str),]\n",
    "\n",
    "annot.index = annot.index.astype(str)\n",
    "\n",
    "ad.obs = ad.obs.join(annot)\n",
    "\n",
    "ad.layers[\"counts\"] = ad.X.copy()\n",
    "sc.pp.normalize_total(ad, inplace=True)\n",
    "sc.pp.log1p(ad)\n",
    "sc.pp.pca(ad)\n",
    "sc.pp.neighbors(ad)\n",
    "\n",
    "ad.obs['Cluster'] = ad.obs['type']"
   ]
  },
  {
   "cell_type": "code",
   "execution_count": null,
   "id": "41b3ac90",
   "metadata": {
    "scrolled": false
   },
   "outputs": [],
   "source": [
    "sc.pl.embedding(ad, basis=\"spatial\", color='type', palette={k: v for k, v in my_colors.items() if k in ad.obs.type.value_counts().index})"
   ]
  },
  {
   "cell_type": "code",
   "execution_count": null,
   "id": "35ad9acc",
   "metadata": {},
   "outputs": [],
   "source": [
    "sq.gr.spatial_neighbors(ad, coord_type=\"generic\", spatial_key=\"spatial\", radius=35)\n",
    "sq.gr.nhood_enrichment(ad, cluster_key=\"type\", seed=33) #IPC-EN sometimes give nan"
   ]
  },
  {
   "cell_type": "code",
   "execution_count": null,
   "id": "6b52aece",
   "metadata": {
    "scrolled": true
   },
   "outputs": [],
   "source": [
    "sq.pl.nhood_enrichment(\n",
    "    ad,\n",
    "    cluster_key=\"type\",\n",
    "    method=None,\n",
    "    cmap=\"inferno\",\n",
    "    vmin=-50,\n",
    "    vmax=100,\n",
    "    figsize=(8, 8))"
   ]
  },
  {
   "cell_type": "raw",
   "id": "d128596a",
   "metadata": {},
   "source": []
  },
  {
   "cell_type": "code",
   "execution_count": null,
   "id": "b0cf701b",
   "metadata": {},
   "outputs": [],
   "source": [
    "old_order = sorted(list(my_colors.keys()))\n",
    "\n",
    "zscore_data = ad.uns['type_nhood_enrichment']['zscore']\n",
    "zscore_ordered = pd.DataFrame(zscore_data, columns=old_order, index=old_order)\n",
    "\n",
    "zscore_reordered = zscore_ordered.reindex(index=list(my_colors.keys()), columns=list(my_colors.keys()))"
   ]
  },
  {
   "cell_type": "code",
   "execution_count": null,
   "id": "2d94633a",
   "metadata": {},
   "outputs": [],
   "source": [
    "fig, ax = plt.subplots(figsize=(12, 12))\n",
    "heatmap = ax.imshow(\n",
    "    zscore_reordered.values,\n",
    "    cmap='inferno',\n",
    "    vmin=-50,\n",
    "    vmax=100\n",
    ")\n",
    "\n",
    "ax.set_title('Neighborhood enrichment')\n",
    "ax.set_xlabel('')\n",
    "ax.set_ylabel('')\n",
    "ax.grid(False)\n",
    "\n",
    "n_clusters = len(list(my_colors.keys()))\n",
    "ax.set_xticks(np.linspace(0, n_clusters - 1, n_clusters))\n",
    "ax.set_yticks(np.linspace(0, n_clusters - 1, n_clusters))\n",
    "ax.set_xticklabels(list(my_colors.keys()), rotation=90)\n",
    "ax.set_yticklabels(list(my_colors.keys()))\n",
    "\n",
    "cbar = plt.colorbar(heatmap, shrink=0.7, aspect=30)\n",
    "cbar.set_label('')\n",
    "\n",
    "plt.tight_layout()\n",
    "\n",
    "plt.savefig('/c4/home/juanmoriano/P2_spatial_transcriptomics/231015_data/NIH5900BA17/NIH5900BA17_nhood_enrich.svg', format='svg')\n",
    "plt.savefig('/c4/home/juanmoriano/P2_spatial_transcriptomics/231015_data/NIH5900BA17/NIH5900BA17_nhood_enrich.pdf', format='pdf')\n",
    "\n",
    "plt.show()"
   ]
  },
  {
   "cell_type": "markdown",
   "id": "cb44eafd",
   "metadata": {},
   "source": [
    "## UCSF2018003MFG"
   ]
  },
  {
   "cell_type": "code",
   "execution_count": null,
   "id": "84d13463",
   "metadata": {},
   "outputs": [],
   "source": [
    "ad = sq.read.vizgen(path='./',\n",
    "    counts_file=\"./UCSF2018003MFG/cell_by_gene.csv\",\n",
    "    meta_file=\"./UCSF2018003MFG/cell_metadata.csv\")\n",
    "\n",
    "annot = pd.read_csv('./UCSF2018003MFG/UCSF2018003MFG_annotation.csv',\n",
    "                   sep=',', index_col=0)\n",
    "\n",
    "annot = annot[['type']]\n",
    "\n",
    "ad = ad[annot.index,]\n",
    "\n",
    "ad.obs = ad.obs.join(annot)\n",
    "\n",
    "ad.layers[\"counts\"] = ad.X.copy()\n",
    "sc.pp.normalize_total(ad, inplace=True)\n",
    "sc.pp.log1p(ad)\n",
    "sc.pp.pca(ad)\n",
    "sc.pp.neighbors(ad)\n",
    "\n",
    "ad.obs['Cluster'] = ad.obs['type']"
   ]
  },
  {
   "cell_type": "code",
   "execution_count": null,
   "id": "aa6e9606",
   "metadata": {},
   "outputs": [],
   "source": [
    "sc.pl.embedding(ad, basis=\"spatial\", color='type', palette={k: v for k, v in my_colors.items() if k in ad.obs.type.value_counts().index})"
   ]
  },
  {
   "cell_type": "code",
   "execution_count": null,
   "id": "5f5c0e87",
   "metadata": {},
   "outputs": [],
   "source": [
    "sq.gr.spatial_neighbors(ad, coord_type=\"generic\", spatial_key=\"spatial\", radius=65)\n",
    "sq.gr.nhood_enrichment(ad, cluster_key=\"type\")"
   ]
  },
  {
   "cell_type": "code",
   "execution_count": null,
   "id": "7b047944",
   "metadata": {
    "scrolled": false
   },
   "outputs": [],
   "source": [
    "sq.pl.nhood_enrichment(\n",
    "    ad,\n",
    "    cluster_key=\"type\",\n",
    "    method=None,\n",
    "    cmap=\"inferno\",\n",
    "    vmin=-50,\n",
    "    vmax=100,\n",
    "    figsize=(8, 8))"
   ]
  },
  {
   "cell_type": "code",
   "execution_count": null,
   "id": "be54c73f",
   "metadata": {},
   "outputs": [],
   "source": [
    "old_order = sorted(list(my_colors.keys()))\n",
    "\n",
    "zscore_data = ad.uns['type_nhood_enrichment']['zscore']\n",
    "zscore_ordered = pd.DataFrame(zscore_data, columns=old_order, index=old_order)\n",
    "\n",
    "zscore_reordered = zscore_ordered.reindex(index=list(my_colors.keys()), columns=list(my_colors.keys()))"
   ]
  },
  {
   "cell_type": "code",
   "execution_count": null,
   "id": "4a0e1c80",
   "metadata": {},
   "outputs": [],
   "source": [
    "fig, ax = plt.subplots(figsize=(12, 12))\n",
    "heatmap = ax.imshow(\n",
    "    zscore_reordered.values,\n",
    "    cmap='inferno',\n",
    "    vmin=-50,\n",
    "    vmax=100\n",
    ")\n",
    "\n",
    "ax.set_title('Neighborhood enrichment')\n",
    "ax.set_xlabel('')\n",
    "ax.set_ylabel('')\n",
    "ax.grid(False)\n",
    "\n",
    "n_clusters = len(list(my_colors.keys()))\n",
    "ax.set_xticks(np.linspace(0, n_clusters - 1, n_clusters))\n",
    "ax.set_yticks(np.linspace(0, n_clusters - 1, n_clusters))\n",
    "ax.set_xticklabels(list(my_colors.keys()), rotation=90)\n",
    "ax.set_yticklabels(list(my_colors.keys()))\n",
    "\n",
    "cbar = plt.colorbar(heatmap, shrink=0.7, aspect=30)\n",
    "cbar.set_label('')\n",
    "\n",
    "plt.tight_layout()\n",
    "\n",
    "plt.savefig('/c4/home/juanmoriano/P2_spatial_transcriptomics/231015_data/UCSF2018003MFG/UCSF2018003MFG_nhood_enrich.svg', format='svg')\n",
    "plt.savefig('/c4/home/juanmoriano/P2_spatial_transcriptomics/231015_data/UCSF2018003MFG/UCSF2018003MFG_nhood_enrich.pdf', format='pdf')\n",
    "\n",
    "plt.show()"
   ]
  },
  {
   "cell_type": "raw",
   "id": "db92a401",
   "metadata": {},
   "source": []
  },
  {
   "cell_type": "markdown",
   "id": "414391b6",
   "metadata": {},
   "source": [
    "## NIH4392BA17"
   ]
  },
  {
   "cell_type": "code",
   "execution_count": null,
   "id": "f9e615bd",
   "metadata": {},
   "outputs": [],
   "source": [
    "ad = sq.read.vizgen(path='./',\n",
    "    counts_file=\"./NIH4392BA17/cell_by_gene.csv\",\n",
    "    meta_file=\"./NIH4392BA17/cell_metadata.csv\")\n",
    "\n",
    "annot = pd.read_csv('./NIH4392BA17/NIH4392BA17_annotation.csv',\n",
    "                   sep=',', index_col=0)\n",
    "\n",
    "annot = annot[['type']]\n",
    "\n",
    "ad = ad[annot.index.astype(str),]\n",
    "annot.index = annot.index.astype(str)\n",
    "\n",
    "ad.obs = ad.obs.join(annot)\n",
    "\n",
    "ad.layers[\"counts\"] = ad.X.copy()\n",
    "sc.pp.normalize_total(ad, inplace=True)\n",
    "sc.pp.log1p(ad)\n",
    "sc.pp.pca(ad)\n",
    "sc.pp.neighbors(ad)\n",
    "\n",
    "ad.obs['Cluster'] = ad.obs['type']"
   ]
  },
  {
   "cell_type": "code",
   "execution_count": null,
   "id": "9d4c6ffe",
   "metadata": {
    "scrolled": false
   },
   "outputs": [],
   "source": [
    "sc.pl.embedding(ad, basis=\"spatial\", color='type', palette={k: v for k, v in my_colors.items() if k in ad.obs.type.value_counts().index})"
   ]
  },
  {
   "cell_type": "code",
   "execution_count": null,
   "id": "60578a20",
   "metadata": {},
   "outputs": [],
   "source": [
    "sq.gr.spatial_neighbors(ad, coord_type=\"generic\", spatial_key=\"spatial\", radius=65)\n",
    "sq.gr.nhood_enrichment(ad, cluster_key=\"type\")"
   ]
  },
  {
   "cell_type": "code",
   "execution_count": null,
   "id": "b588ef1f",
   "metadata": {
    "scrolled": false
   },
   "outputs": [],
   "source": [
    "sq.pl.nhood_enrichment(\n",
    "    ad,\n",
    "    cluster_key=\"type\",\n",
    "    method=None,\n",
    "    cmap=\"inferno\",\n",
    "    vmin=-50,\n",
    "    vmax=100,\n",
    "    figsize=(8, 8))"
   ]
  },
  {
   "cell_type": "raw",
   "id": "3b0c53a9",
   "metadata": {},
   "source": []
  },
  {
   "cell_type": "code",
   "execution_count": null,
   "id": "1f08ccf4",
   "metadata": {},
   "outputs": [],
   "source": [
    "old_order=list(pd.Categorical(ad.obs['type']).categories)\n",
    "zscore_data = ad.uns['type_nhood_enrichment']['zscore']\n",
    "zscore_ordered = pd.DataFrame(zscore_data, columns=old_order, index=old_order)"
   ]
  },
  {
   "cell_type": "code",
   "execution_count": null,
   "id": "58c9e297",
   "metadata": {},
   "outputs": [],
   "source": [
    "zscore_ordered.loc[len(zscore_ordered)] = -50"
   ]
  },
  {
   "cell_type": "code",
   "execution_count": null,
   "id": "3646d03e",
   "metadata": {},
   "outputs": [],
   "source": [
    "zscore_ordered['IPC-EN'] = -50"
   ]
  },
  {
   "cell_type": "code",
   "execution_count": null,
   "id": "504edec1",
   "metadata": {},
   "outputs": [],
   "source": [
    "new_index = list(zscore_ordered.index)\n",
    "new_index = new_index[:-1] # remove 28\n",
    "new_index.append(\"IPC-EN\")"
   ]
  },
  {
   "cell_type": "code",
   "execution_count": null,
   "id": "ff1f42b2",
   "metadata": {},
   "outputs": [],
   "source": [
    "zscore_ordered.index = new_index"
   ]
  },
  {
   "cell_type": "code",
   "execution_count": null,
   "id": "ecec9bed",
   "metadata": {},
   "outputs": [],
   "source": [
    "zscore_reordered = zscore_ordered.reindex(index=list(my_colors.keys()), columns=list(my_colors.keys()))"
   ]
  },
  {
   "cell_type": "code",
   "execution_count": null,
   "id": "e500d5c3",
   "metadata": {},
   "outputs": [],
   "source": [
    "fig, ax = plt.subplots(figsize=(12, 12))\n",
    "heatmap = ax.imshow(\n",
    "    zscore_reordered.values,\n",
    "    cmap='inferno',\n",
    "    vmin=-50,\n",
    "    vmax=100\n",
    ")\n",
    "\n",
    "ax.set_title('Neighborhood enrichment')\n",
    "ax.set_xlabel('')\n",
    "ax.set_ylabel('')\n",
    "ax.grid(False)\n",
    "\n",
    "n_clusters = len(list(my_colors.keys()))\n",
    "ax.set_xticks(np.linspace(0, n_clusters - 1, n_clusters))\n",
    "ax.set_yticks(np.linspace(0, n_clusters - 1, n_clusters))\n",
    "ax.set_xticklabels(list(my_colors.keys()), rotation=90)\n",
    "ax.set_yticklabels(list(my_colors.keys()))\n",
    "\n",
    "cbar = plt.colorbar(heatmap, shrink=0.7, aspect=30)\n",
    "cbar.set_label('')\n",
    "\n",
    "plt.tight_layout()\n",
    "\n",
    "plt.savefig('/c4/home/juanmoriano/P2_spatial_transcriptomics/231015_data/NIH4392BA17/NIH4392BA17_nhood_enrich_2.svg', format='svg')\n",
    "plt.savefig('/c4/home/juanmoriano/P2_spatial_transcriptomics/231015_data/NIH4392BA17/NIH4392BA17_nhood_enrich_2.pdf', format='pdf')\n",
    "\n",
    "plt.show()"
   ]
  }
 ],
 "metadata": {
  "kernelspec": {
   "display_name": "Python 3 (ipykernel)",
   "language": "python",
   "name": "python3"
  },
  "language_info": {
   "codemirror_mode": {
    "name": "ipython",
    "version": 3
   },
   "file_extension": ".py",
   "mimetype": "text/x-python",
   "name": "python",
   "nbconvert_exporter": "python",
   "pygments_lexer": "ipython3",
   "version": "3.9.13"
  }
 },
 "nbformat": 4,
 "nbformat_minor": 5
}
